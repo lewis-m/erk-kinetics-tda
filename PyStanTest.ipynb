{
  "nbformat": 4,
  "nbformat_minor": 0,
  "metadata": {
    "colab": {
      "name": "PyStanTest.ipynb",
      "version": "0.3.2",
      "provenance": [],
      "include_colab_link": true
    },
    "kernelspec": {
      "name": "python3",
      "display_name": "Python 3"
    }
  },
  "cells": [
    {
      "cell_type": "markdown",
      "metadata": {
        "id": "view-in-github",
        "colab_type": "text"
      },
      "source": [
        "<a href=\"https://colab.research.google.com/github/lewis-m/yeast-mutation-tda/blob/master/PyStanTest.ipynb\" target=\"_parent\"><img src=\"https://colab.research.google.com/assets/colab-badge.svg\" alt=\"Open In Colab\"/></a>"
      ]
    },
    {
      "metadata": {
        "id": "4I4oATWuVP4R",
        "colab_type": "code",
        "outputId": "12e53794-0942-4df5-9de3-5e2459a718ba",
        "colab": {
          "base_uri": "https://localhost:8080/",
          "height": 68
        }
      },
      "cell_type": "code",
      "source": [
        "#Prerequesite installations\n",
        "#Run once everytime runtime is restarted\n",
        "\n",
        "import numpy as np\n",
        "import cython\n",
        "\n",
        "!pip install pystan\n",
        "\n",
        "import pystan as ps"
      ],
      "execution_count": 1,
      "outputs": [
        {
          "output_type": "stream",
          "text": [
            "Requirement already satisfied: pystan in /usr/local/lib/python3.6/dist-packages (2.19.0.0)\n",
            "Requirement already satisfied: Cython!=0.25.1,>=0.22 in /usr/local/lib/python3.6/dist-packages (from pystan) (0.29.6)\n",
            "Requirement already satisfied: numpy>=1.7 in /usr/local/lib/python3.6/dist-packages (from pystan) (1.16.2)\n"
          ],
          "name": "stdout"
        }
      ]
    },
    {
      "metadata": {
        "id": "0etwFRyJPQdN",
        "colab_type": "code",
        "outputId": "e24aaab3-d6f5-4c61-8940-4137f89c0d16",
        "colab": {
          "resources": {
            "http://localhost:8080/nbextensions/google.colab/files.js": {
              "data": "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",
              "ok": true,
              "headers": [
                [
                  "content-type",
                  "application/javascript"
                ]
              ],
              "status": 200,
              "status_text": ""
            }
          },
          "base_uri": "https://localhost:8080/",
          "height": 71
        }
      },
      "cell_type": "code",
      "source": [
        "#Upload file/data\n",
        "from google.colab import files\n",
        "import pandas as pd\n",
        "\n",
        "uploaded = files.upload()\n",
        "\n"
      ],
      "execution_count": 2,
      "outputs": [
        {
          "output_type": "display_data",
          "data": {
            "text/html": [
              "\n",
              "     <input type=\"file\" id=\"files-fcc1aa00-70e7-43c2-929e-ff50da0a8af2\" name=\"files[]\" multiple disabled />\n",
              "     <output id=\"result-fcc1aa00-70e7-43c2-929e-ff50da0a8af2\">\n",
              "      Upload widget is only available when the cell has been executed in the\n",
              "      current browser session. Please rerun this cell to enable.\n",
              "      </output>\n",
              "      <script src=\"/nbextensions/google.colab/files.js\"></script> "
            ],
            "text/plain": [
              "<IPython.core.display.HTML object>"
            ]
          },
          "metadata": {
            "tags": []
          }
        },
        {
          "output_type": "stream",
          "text": [
            "Saving FirstData.xlsx to FirstData.xlsx\n"
          ],
          "name": "stdout"
        }
      ]
    },
    {
      "metadata": {
        "id": "4zIkjAjVQPPq",
        "colab_type": "code",
        "colab": {}
      },
      "cell_type": "code",
      "source": [
        "import numpy as np\n",
        "\n",
        "xlsx = pd.ExcelFile('FirstData.xlsx')\n",
        "df = pd.read_excel(xlsx, 'Wild Type')\n",
        "df  = df.iloc[5:12]\n",
        "\n",
        "t1 = df.iloc[:, [1,2,3]]\n",
        "t2 = df.iloc[:, [6,7,8]]\n",
        "t3 = df.iloc[:, [11,12,13]]\n",
        "t4 = df.iloc[:, [16,17,18]]\n",
        "t5 = df.iloc[:, [21,22,23]]\n",
        "\n",
        "wild_type = np.array([t1.values, t2.values, t3.values, t4.values, t5.values])\n",
        "\n",
        "df = pd.read_excel(xlsx, 'Y130C')\n",
        "df  = df.iloc[5:12]\n",
        "\n",
        "t1 = df.iloc[:, [1,2,3]]\n",
        "t2 = df.iloc[:, [6,7,8]]\n",
        "t3 = df.iloc[:, [11,12,13]]\n",
        "t4 = df.iloc[:, [16,17,18]]\n",
        "t5 = df.iloc[:, [21,22,23]]\n",
        "\n",
        "y130c = np.array([t1.values, t2.values, t3.values, t4.values, t5.values])\n",
        "\n",
        "df = pd.read_excel(xlsx, 'F53S')\n",
        "df  = df.iloc[5:12]\n",
        "\n",
        "t1 = df.iloc[:, [1,2,3]]\n",
        "t2 = df.iloc[:, [6,7,8]]\n",
        "t3 = df.iloc[:, [11,12,13]]\n",
        "t4 = df.iloc[:, [16,17,18]]\n",
        "t5 = df.iloc[:, [21,22,23]]\n",
        "\n",
        "f53s = np.array([t1.values, t2.values, t3.values, t4.values, t5.values])\n",
        "\n",
        "df = pd.read_excel(xlsx, 'E203K')\n",
        "df  = df.iloc[5:12]\n",
        "\n",
        "t1 = df.iloc[:, [1,2,3]]\n",
        "t2 = df.iloc[:, [6,7,8]]\n",
        "t3 = df.iloc[:, [11,12,13]]\n",
        "t4 = df.iloc[:, [16,17,18]]\n",
        "t5 = df.iloc[:, [21,22,23]]\n",
        "\n",
        "e203k = np.array([t1.values, t2.values, t3.values, t4.values, t5.values])\n",
        "\n",
        "\n",
        "#put all data into one data frame\n",
        "df = np.array([wild_type, y130c, f53s, e203k])"
      ],
      "execution_count": 0,
      "outputs": []
    },
    {
      "metadata": {
        "id": "cQ9XNW-Det6R",
        "colab_type": "code",
        "outputId": "46699ce4-4c7c-4ee3-ef87-b3cf21bea948",
        "colab": {
          "base_uri": "https://localhost:8080/",
          "height": 544
        }
      },
      "cell_type": "code",
      "source": [
        "#Caluculate variances\n",
        "variance = np.var(df, axis = 1)\n",
        "\n",
        "print(variance)"
      ],
      "execution_count": 4,
      "outputs": [
        {
          "output_type": "stream",
          "text": [
            "[[[0.407898743208211 0.44202692154055684 0.08872811066551656]\n",
            "  [0.3482158047554182 0.2346684200252743 0.07985859685628442]\n",
            "  [0.44241425823285035 0.20837829342483077 0.11903757620745647]\n",
            "  [0.34025579141089596 0.09476706535235742 0.12930036536600711]\n",
            "  [0.19981381767885548 0.02593906022502403 0.1449450950999056]\n",
            "  [0.1488271854748052 0.24476519576693206 0.6979500950176968]\n",
            "  [0.0436605479212564 0.02505282004636366 0.12271341234043029]]\n",
            "\n",
            " [[0.31274399999999997 0.07908000000000001 0.15630400000000003]\n",
            "  [0.06798399999999998 0.122376 0.06270399999999998]\n",
            "  [0.09893600000000002 0.162584 0.11512]\n",
            "  [0.07109599999999999 0.18781600000000007 0.062104000000000006]\n",
            "  [0.10921600000000001 0.09809599999999999 0.06509600000000001]\n",
            "  [0.021416 0.033464 0.081344]\n",
            "  [0.004136 0.0 0.004136000000000006]]\n",
            "\n",
            " [[0.5257999999999997 0.24490399999999993 0.17618400000000004]\n",
            "  [0.08285600000000001 0.01981599999999999 0.088376]\n",
            "  [0.025383999999999983 0.04598399999999999 0.06521600000000002]\n",
            "  [0.05219999999999999 0.05309600000000002 0.06309600000000003]\n",
            "  [0.07659999999999999 0.05405599999999998 0.033624]\n",
            "  [0.024016000000000003 0.3104640000000001 0.37729599999999985]\n",
            "  [0.022456000000000004 0.06760000000000002 0.11051999999999995]]\n",
            "\n",
            " [[0.2870239999999999 0.02762399999999999 0.333616]\n",
            "  [0.18470399999999995 0.08628000000000001 0.11722400000000004]\n",
            "  [0.13326400000000005 0.08929600000000001 0.20754400000000012]\n",
            "  [0.129976 0.07078399999999997 0.20986400000000005]\n",
            "  [0.07985600000000001 0.11972000000000001 0.2643839999999999]\n",
            "  [0.05078399999999998 0.565344 0.79252]\n",
            "  [0.04840000000000001 0.44209599999999993 0.7791359999999999]]]\n"
          ],
          "name": "stdout"
        }
      ]
    },
    {
      "metadata": {
        "id": "Jf7ZmZBleQ35",
        "colab_type": "code",
        "outputId": "f064d5c9-6fd1-4e92-f21f-13119e34cd0d",
        "colab": {
          "base_uri": "https://localhost:8080/",
          "height": 68
        }
      },
      "cell_type": "code",
      "source": [
        "#First STAN usage\n",
        "\n",
        "#Maybe normalise automatically ??\n",
        "\n",
        "time_stamps = [0.5, 2, 3.25, 3.75, 5, 10, 20]\n",
        "\n",
        "yeast_code = \"\"\"\n",
        "data {\n",
        "    int<lower=0> T; // number of trials\n",
        "    int<lower=0> TS; // number of timesteps\n",
        "    vector[TS] ts; // time values\n",
        "    real S0[TS,T]; // param S0\n",
        "    real S1[TS,T]; // param S1\n",
        "    real S2[TS,T]; // param S2\n",
        "    vector<lower=0>[3] sigma; // s.e. of effect estimates\n",
        "}\n",
        "parameters {\n",
        "    real P1;\n",
        "    real P2;\n",
        "    real Pi;\n",
        "}\n",
        "\n",
        "model {\n",
        "    P1 ~ uniform(0,1);\n",
        "    P2 ~ uniform(0,1);\n",
        "    Pi ~ uniform(0,1);\n",
        "    \n",
        "    for(i in 1:TS){\n",
        "      S0[i,:] ~ normal(exp(-P1*ts[i]), sigma[1]);\n",
        "      S1[i,:] ~ normal(P1*(1-Pi)/(P1-P2)*(exp(-P2*ts[i]) - exp(-P1*ts[i])), sigma[2]);\n",
        "      S2[i,:] ~ normal(P1*Pi/(P1-P2)*(exp(-P2*ts[i]) - exp(-P2*ts[i])) + P2/(P1-P2)*(exp(-P1*ts[i]) - 1) + P1/(P1-P2)*(1-exp(-P2*ts[i])), sigma[3]);\n",
        "    }\n",
        "}\n",
        "\"\"\"\n",
        "\n",
        "S0 = np.stack([e203k[:, 0, 0], e203k[:, 1, 0], e203k[:, 2, 0], e203k[:, 3, 0], e203k[:, 4, 0], e203k[:, 5, 0], e203k[:, 6, 0]])\n",
        "S1 = np.stack([e203k[:, 0, 1], e203k[:, 1, 1], e203k[:, 2, 1], e203k[:, 3, 1], e203k[:, 4, 1], e203k[:, 5, 1], e203k[:, 6, 1]])\n",
        "S2 = np.stack([e203k[:, 0, 2], e203k[:, 1, 2], e203k[:, 2, 2], e203k[:, 3, 2], e203k[:, 4, 2], e203k[:, 5, 2], e203k[:, 6, 2]])\n",
        "\n",
        "S0 = np.array(S0, dtype = float)\n",
        "S1 = np.array(S1, dtype = float)\n",
        "S2 = np.array(S2, dtype = float)\n",
        "\n",
        "S0 = S0/5\n",
        "S1 = S1/5\n",
        "S2 = S2/5\n",
        "\n",
        "yeast_dat = {'T': 5,\n",
        "             'TS': 7,\n",
        "             'ts': time_stamps,\n",
        "             'S0': S0,\n",
        "             'S1': S1,\n",
        "             'S2': S2,\n",
        "             'sigma': [0.1,0.1,0.1]}\n",
        "\n",
        "sm = ps.StanModel(model_code=yeast_code)\n",
        "fit = sm.sampling(data=yeast_dat, iter=1000, chains=4)"
      ],
      "execution_count": 26,
      "outputs": [
        {
          "output_type": "stream",
          "text": [
            "INFO:pystan:COMPILING THE C++ CODE FOR MODEL anon_model_da4cad5222b1a8cd2b8d5e1326940672 NOW.\n",
            "WARNING:pystan:27 of 2000 iterations ended with a divergence (1.35 %).\n",
            "WARNING:pystan:Try running with adapt_delta larger than 0.8 to remove the divergences.\n"
          ],
          "name": "stderr"
        }
      ]
    },
    {
      "metadata": {
        "id": "wEyX_A0GIlES",
        "colab_type": "code",
        "outputId": "524aba37-7548-4ea7-9606-d39679579422",
        "colab": {
          "base_uri": "https://localhost:8080/",
          "height": 255
        }
      },
      "cell_type": "code",
      "source": [
        "print(fit)\n",
        "#fit.plot()"
      ],
      "execution_count": 27,
      "outputs": [
        {
          "output_type": "stream",
          "text": [
            "Inference for Stan model: anon_model_da4cad5222b1a8cd2b8d5e1326940672.\n",
            "4 chains, each with iter=1000; warmup=500; thin=1; \n",
            "post-warmup draws per chain=500, total post-warmup draws=2000.\n",
            "\n",
            "       mean se_mean     sd   2.5%    25%    50%    75%  97.5%  n_eff   Rhat\n",
            "P1     0.66  2.2e-3   0.06   0.55   0.62   0.66    0.7   0.79    775    1.0\n",
            "P2     0.37  1.6e-3   0.04    0.3   0.34   0.36   0.39   0.46    702   1.01\n",
            "Pi     0.27  3.2e-3   0.08    0.1   0.22   0.28   0.33   0.42    668   1.01\n",
            "lp__ -94.91    0.05   1.23 -97.96 -95.48 -94.61 -93.99 -93.47    600   1.01\n",
            "\n",
            "Samples were drawn using NUTS at Thu Apr 18 14:34:19 2019.\n",
            "For each parameter, n_eff is a crude measure of effective sample size,\n",
            "and Rhat is the potential scale reduction factor on split chains (at \n",
            "convergence, Rhat=1).\n"
          ],
          "name": "stdout"
        }
      ]
    },
    {
      "metadata": {
        "id": "KIJ3bV1w-Rwo",
        "colab_type": "code",
        "colab": {
          "base_uri": "https://localhost:8080/",
          "height": 34
        },
        "outputId": "e9bc69c8-c2fe-4d3d-b674-d8d410f0dd8c"
      },
      "cell_type": "code",
      "source": [
        "len(posterior['P1'])"
      ],
      "execution_count": 19,
      "outputs": [
        {
          "output_type": "execute_result",
          "data": {
            "text/plain": [
              "2000"
            ]
          },
          "metadata": {
            "tags": []
          },
          "execution_count": 19
        }
      ]
    }
  ]
}